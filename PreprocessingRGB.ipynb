{
 "cells": [
  {
   "cell_type": "code",
   "execution_count": 1,
   "metadata": {},
   "outputs": [],
   "source": [
    "import cv2\n",
    "import matplotlib.pyplot as plt\n",
    "import os\n",
    "from PIL import Image\n",
    "import numpy as np\n",
    "from tqdm import tqdm"
   ]
  },
  {
   "cell_type": "code",
   "execution_count": 2,
   "metadata": {},
   "outputs": [
    {
     "data": {
      "text/plain": [
       "['finger_1', 'finger_2', 'finger_3', 'finger_4', 'finger_5']"
      ]
     },
     "execution_count": 2,
     "metadata": {},
     "output_type": "execute_result"
    }
   ],
   "source": [
    "os.listdir(\"./Dataset\")"
   ]
  },
  {
   "cell_type": "code",
   "execution_count": 3,
   "metadata": {},
   "outputs": [
    {
     "name": "stdout",
     "output_type": "stream",
     "text": [
      "Pemeriksaan dan penghapusan file rusak selesai.\n"
     ]
    }
   ],
   "source": [
    "def check_and_remove_corrupt_images(directory):\n",
    "    for root, _, files in os.walk(directory):\n",
    "        for file in files:\n",
    "            try:\n",
    "                img_path = os.path.join(root, file)\n",
    "                img = Image.open(img_path)\n",
    "                img.verify()\n",
    "            except (IOError, SyntaxError, Image.UnidentifiedImageError) as e:\n",
    "                print(f\"File rusak ditemukan dan dihapus: {img_path}\")\n",
    "                os.remove(img_path)\n",
    "\n",
    "check_and_remove_corrupt_images('Dataset/')\n",
    "print(\"Pemeriksaan dan penghapusan file rusak selesai.\")"
   ]
  },
  {
   "cell_type": "code",
   "execution_count": 4,
   "metadata": {},
   "outputs": [],
   "source": [
    "def threshold_dan_balik(image, batas):\n",
    "    hasil = np.copy(image)\n",
    "    hasil[hasil>=batas] = 255\n",
    "    hasil[hasil<batas] = 0\n",
    "\n",
    "    for i in range(hasil.shape[0]):\n",
    "        for j in range(hasil.shape[1]):\n",
    "            if(hasil[i][j]==0):\n",
    "                hasil[i][j]=255\n",
    "            else:\n",
    "                hasil[i][j]=0\n",
    "    return hasil"
   ]
  },
  {
   "cell_type": "code",
   "execution_count": 5,
   "metadata": {},
   "outputs": [],
   "source": [
    "def convo_edge(image, kernel):\n",
    "    img_height, img_width = image.shape\n",
    "    kernel_height, kernel_width = kernel.shape\n",
    "    pad_height = kernel_height //2\n",
    "    pad_width = kernel_width //2\n",
    "    padded_img =  np.pad(image, ((pad_height, pad_height), (pad_width, pad_width)), mode='constant')\n",
    "    result = np.zeros([img_height, img_width])\n",
    "\n",
    "    for i in range(img_height):\n",
    "        for j in range(img_width):\n",
    "            result[i, j] = np.sum(padded_img[i:i+kernel_height, j:j+kernel_width] * kernel)\n",
    "    return result\n",
    "\n",
    "Sx = np.array([[-1,0,1],\n",
    "               [-2,0,2],\n",
    "               [-1,0,1]])\n",
    "\n",
    "Sy = np.array([[1,2,1],\n",
    "               [0,0,0],\n",
    "               [-1,-2,-1]])\n",
    "\n",
    "def deteksi_tepi(image, kernelX, kernelY):\n",
    "    hasilX = convo_edge(image, kernelX)\n",
    "    hasilY = convo_edge(image, kernelY)\n",
    "\n",
    "    M = np.sqrt((hasilX*hasilX)+(hasilY*hasilY))\n",
    "\n",
    "    return M"
   ]
  },
  {
   "cell_type": "code",
   "execution_count": 6,
   "metadata": {},
   "outputs": [],
   "source": [
    "kernel = np.array([[1,1,1],\n",
    "                   [1,1,1],\n",
    "                   [1,1,1]])\n",
    "def erosi(image, kernel):\n",
    "    height, width = image.shape\n",
    "    k_height, k_width = kernel.shape\n",
    "    center = k_height // 2\n",
    "    hasil = np.zeros((height, width))\n",
    "    for i in range(center, height-center):\n",
    "        for j in range(center, width-center):\n",
    "            cocok = True\n",
    "            for k in range(k_height):\n",
    "                for l in range(k_width):\n",
    "                    if kernel[k, l] == 1 and image[i + k - center, j + l - center] == 0:\n",
    "                        cocok = False\n",
    "                        break\n",
    "                if not cocok:\n",
    "                    break\n",
    "            if cocok:\n",
    "                hasil[i, j] = 255\n",
    "    return hasil"
   ]
  },
  {
   "cell_type": "code",
   "execution_count": 7,
   "metadata": {},
   "outputs": [],
   "source": [
    "def dilasi(image,kernel):\n",
    "    height, width = image.shape\n",
    "    k_height, k_width = kernel.shape\n",
    "    center = k_height//2\n",
    "    hasil = np.zeros((height, width))\n",
    "    for i in range(center, height-center):\n",
    "        for j in range(center, width-center):\n",
    "            if image[i,j] == 255:\n",
    "                for k in range(k_height):\n",
    "                    for l in range(k_width):\n",
    "                        if kernel[k,l] == 1:\n",
    "                            hasil[i+k-center,j+l-center] =255\n",
    "            else:\n",
    "                if hasil[i,j] !=255:\n",
    "                    hasil[i,j] = 0 \n",
    "    return hasil"
   ]
  },
  {
   "cell_type": "code",
   "execution_count": 8,
   "metadata": {},
   "outputs": [],
   "source": [
    "def closing(dilasi, kernel):\n",
    "    hasil = erosi(dilasi, kernel)\n",
    "    return hasil"
   ]
  },
  {
   "cell_type": "code",
   "execution_count": 9,
   "metadata": {},
   "outputs": [
    {
     "name": "stderr",
     "output_type": "stream",
     "text": [
      "Processing Images: 100%|██████████| 2099/2099 [03:10<00:00, 11.00it/s]"
     ]
    },
    {
     "name": "stdout",
     "output_type": "stream",
     "text": [
      "Preprocessing selesai!\n"
     ]
    },
    {
     "name": "stderr",
     "output_type": "stream",
     "text": [
      "\n"
     ]
    }
   ],
   "source": [
    "dataset_dir = \"./Dataset\"\n",
    "preprocessing_dir = \"./Preprocessing_RGB\"\n",
    "\n",
    "if not os.path.exists(preprocessing_dir): # kalo foldernya belum ada, bikin dulu\n",
    "    os.makedirs(preprocessing_dir)\n",
    "\n",
    "def preprocess_image(image_path, output_path):\n",
    "    with Image.open(image_path) as img:\n",
    "        img = img.convert('RGB')\n",
    "        img = np.array(img)\n",
    "        img = cv2.resize(img, (150, 150))\n",
    "        cv2.imwrite(output_path, img) \n",
    "\n",
    "total_images = sum(len(files) for _, _, files in os.walk(dataset_dir) if files)\n",
    "\n",
    "with tqdm(total=total_images, desc=\"Processing Images\") as pbar:\n",
    "    for class_name in os.listdir(dataset_dir):\n",
    "        class_dir = os.path.join(dataset_dir, class_name)\n",
    "        if os.path.isdir(class_dir):\n",
    "            # Membuat folder kelas di dalam folder preprocessing\n",
    "            new_class_dir = os.path.join(preprocessing_dir, class_name)\n",
    "            os.makedirs(new_class_dir, exist_ok=True)\n",
    "            \n",
    "            # Iterasi melalui setiap gambar dalam folder kelas\n",
    "            for image_name in os.listdir(class_dir):\n",
    "                image_path = os.path.join(class_dir, image_name)\n",
    "                new_image_path = os.path.join(new_class_dir, image_name)\n",
    "                preprocess_image(image_path, new_image_path)\n",
    "                pbar.update(1)\n",
    "\n",
    "print(\"Preprocessing selesai!\")"
   ]
  }
 ],
 "metadata": {
  "kernelspec": {
   "display_name": "tf2",
   "language": "python",
   "name": "python3"
  },
  "language_info": {
   "codemirror_mode": {
    "name": "ipython",
    "version": 3
   },
   "file_extension": ".py",
   "mimetype": "text/x-python",
   "name": "python",
   "nbconvert_exporter": "python",
   "pygments_lexer": "ipython3",
   "version": "3.10.4"
  }
 },
 "nbformat": 4,
 "nbformat_minor": 2
}
